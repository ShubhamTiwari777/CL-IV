{
  "cells": [
    {
      "cell_type": "code",
      "execution_count": null,
      "metadata": {},
      "outputs": [],
      "source": [
        "!pip install tensorflow numpy matplotlib"
      ]
    },
    {
      "cell_type": "code",
      "execution_count": 2,
      "metadata": {
        "colab": {
          "base_uri": "https://localhost:8080/"
        },
        "id": "R7UPWcrJYNTS",
        "outputId": "ae49c5b0-247d-49e5-ef1e-be233783c0ba"
      },
      "outputs": [
        {
          "name": "stdout",
          "output_type": "stream",
          "text": [
            "GPU not available, using CPU\n"
          ]
        }
      ],
      "source": [
        "# prompt: `Perform Sentiment Analysis in the network graph using RNN.`\n",
        "# * use tensorflow\n",
        "# * use readily available dataset\n",
        "# * train only on 1k samples as lab may not have GPU \\[still do a check if available or fallback to CPU]\n",
        "# * use notebook style blocks\n",
        "# * plot accuracy over epochs\n",
        "# * show samples of actual vs preds\n",
        "\n",
        "import tensorflow as tf\n",
        "import numpy as np\n",
        "import matplotlib.pyplot as plt\n",
        "from tensorflow.keras.datasets import imdb\n",
        "from tensorflow.keras.preprocessing import sequence\n",
        "from tensorflow.keras.models import Sequential\n",
        "from tensorflow.keras.layers import Embedding, LSTM, Dense\n",
        "\n",
        "# Check for GPU availability\n",
        "if tf.config.list_physical_devices('GPU'):\n",
        "  print(\"GPU available\")\n",
        "  device_name = '/GPU:0'\n",
        "else:\n",
        "  print(\"GPU not available, using CPU\")\n",
        "  device_name = '/CPU:0'\n",
        "\n"
      ]
    },
    {
      "cell_type": "code",
      "execution_count": 3,
      "metadata": {
        "colab": {
          "base_uri": "https://localhost:8080/"
        },
        "id": "Dv9F0r42Y1ZT",
        "outputId": "2f891c59-9a46-4760-8af6-b4f0c027fae1"
      },
      "outputs": [
        {
          "name": "stdout",
          "output_type": "stream",
          "text": [
            "Loading data...\n",
            "Downloading data from https://storage.googleapis.com/tensorflow/tf-keras-datasets/imdb.npz\n",
            "\u001b[1m17464789/17464789\u001b[0m \u001b[32m━━━━━━━━━━━━━━━━━━━━\u001b[0m\u001b[37m\u001b[0m \u001b[1m5s\u001b[0m 0us/step\n",
            "25000 train sequences\n",
            "25000 test sequences\n",
            "Pad sequences (samples x time)\n",
            "x_train shape: (25000, 80)\n",
            "x_test shape: (25000, 80)\n"
          ]
        }
      ],
      "source": [
        "\n",
        "# Set parameters\n",
        "max_features = 20000\n",
        "maxlen = 80\n",
        "batch_size = 32\n",
        "\n",
        "print('Loading data...')\n",
        "(x_train, y_train), (x_test, y_test) = imdb.load_data(num_words=max_features)\n",
        "print(len(x_train), 'train sequences')\n",
        "print(len(x_test), 'test sequences')\n",
        "\n",
        "print('Pad sequences (samples x time)')\n",
        "x_train = sequence.pad_sequences(x_train, maxlen=maxlen)\n",
        "x_test = sequence.pad_sequences(x_test, maxlen=maxlen)\n",
        "print('x_train shape:', x_train.shape)\n",
        "print('x_test shape:', x_test.shape)\n",
        "\n",
        "# Limit the training data to 1000 samples\n",
        "x_train = x_train[:1000]\n",
        "y_train = y_train[:1000]\n",
        "\n"
      ]
    },
    {
      "cell_type": "code",
      "execution_count": 4,
      "metadata": {
        "colab": {
          "base_uri": "https://localhost:8080/"
        },
        "id": "WTfAh80NcDvv",
        "outputId": "6cc98cd4-a663-4c12-8901-0d43c312a011"
      },
      "outputs": [
        {
          "name": "stdout",
          "output_type": "stream",
          "text": [
            "Build model...\n",
            "Train...\n",
            "Epoch 1/3\n",
            "\u001b[1m32/32\u001b[0m \u001b[32m━━━━━━━━━━━━━━━━━━━━\u001b[0m\u001b[37m\u001b[0m \u001b[1m18s\u001b[0m 549ms/step - accuracy: 0.5129 - loss: 0.6921 - val_accuracy: 0.6537 - val_loss: 0.6768\n",
            "Epoch 2/3\n",
            "\u001b[1m32/32\u001b[0m \u001b[32m━━━━━━━━━━━━━━━━━━━━\u001b[0m\u001b[37m\u001b[0m \u001b[1m17s\u001b[0m 552ms/step - accuracy: 0.7765 - loss: 0.6070 - val_accuracy: 0.6760 - val_loss: 0.5937\n",
            "Epoch 3/3\n",
            "\u001b[1m32/32\u001b[0m \u001b[32m━━━━━━━━━━━━━━━━━━━━\u001b[0m\u001b[37m\u001b[0m \u001b[1m18s\u001b[0m 563ms/step - accuracy: 0.9036 - loss: 0.2854 - val_accuracy: 0.7445 - val_loss: 0.6089\n"
          ]
        }
      ],
      "source": [
        "\n",
        "print('Build model...')\n",
        "with tf.device(device_name):\n",
        "  model = Sequential()\n",
        "  model.add(Embedding(max_features, 128))\n",
        "  model.add(LSTM(128, dropout=0.2, recurrent_dropout=0.2))\n",
        "  model.add(Dense(1, activation='sigmoid'))\n",
        "\n",
        "  model.compile(loss='binary_crossentropy',\n",
        "                optimizer='adam',\n",
        "                metrics=['accuracy'])\n",
        "\n",
        "print('Train...')\n",
        "history = model.fit(x_train, y_train,\n",
        "          batch_size=batch_size,\n",
        "          epochs=3,  # Reduced epochs for faster execution\n",
        "          validation_data=(x_test, y_test))\n"
      ]
    },
    {
      "cell_type": "code",
      "execution_count": 5,
      "metadata": {
        "colab": {
          "base_uri": "https://localhost:8080/",
          "height": 472
        },
        "id": "sz2qgjKjcLMj",
        "outputId": "0ae17b84-9a19-4e70-8d50-a3541292aa2f"
      },
      "outputs": [
        {
          "data": {
            "image/png": "[encoded data removed]",
            "text/plain": [
              "<Figure size 640x480 with 1 Axes>"
            ]
          },
          "metadata": {},
          "output_type": "display_data"
        }
      ],
      "source": [
        "\n",
        "# Plot accuracy over epochs\n",
        "plt.plot(history.history['accuracy'])\n",
        "plt.plot(history.history['val_accuracy'])\n",
        "plt.title('Model accuracy')\n",
        "plt.ylabel('Accuracy')\n",
        "plt.xlabel('Epoch')\n",
        "plt.legend(['Train', 'Validation'], loc='upper left')\n",
        "plt.show()\n",
        "\n"
      ]
    },
    {
      "cell_type": "code",
      "execution_count": 6,
      "metadata": {
        "colab": {
          "base_uri": "https://localhost:8080/"
        },
        "id": "9HW77MG4cPjr",
        "outputId": "ec7dcc05-5797-44cb-b8ab-8d6881b075d7"
      },
      "outputs": [
        {
          "name": "stdout",
          "output_type": "stream",
          "text": [
            "\u001b[1m1/1\u001b[0m \u001b[32m━━━━━━━━━━━━━━━━━━━━\u001b[0m\u001b[37m\u001b[0m \u001b[1m0s\u001b[0m 153ms/step\n",
            "Downloading data from https://storage.googleapis.com/tensorflow/tf-keras-datasets/imdb_word_index.json\n",
            "\u001b[1m1641221/1641221\u001b[0m \u001b[32m━━━━━━━━━━━━━━━━━━━━\u001b[0m\u001b[37m\u001b[0m \u001b[1m0s\u001b[0m 0us/step\n",
            "Review 1:\n",
            "Actual: 0\n",
            "Predicted: 0\n",
            "Review Text (truncated for display): <START> please give this one a miss br br kristy swanson and the rest of the cast rendered terrible performances the show is flat flat flat br br i don't know how michael madison could have allowed this one on his plate he almost seemed to know this wasn't going to work out and his performance was q...\n",
            "--------------------\n",
            "Review 2:\n",
            "Actual: 1\n",
            "Predicted: 1\n",
            "Review Text (truncated for display): wonderfully written script br br i praise robert altman this is one of his many films that deals with unconventional fascinating subject matter this film is disturbing but it's sincere and it's sure to elicit a strong emotional response from the viewer if you want to see an unusual film some might e...\n",
            "--------------------\n",
            "Review 3:\n",
            "Actual: 1\n",
            "Predicted: 0\n",
            "Review Text (truncated for display): events <UNK> may or may not have had <UNK> turmoil in mind when he made <UNK> but whatever prompted his choice of material the film stands as a cautionary tale of universal application <UNK> could be the soviet union italy germany or japan in the 1930s or any country of any era that lets its guard d...\n",
            "--------------------\n",
            "Review 4:\n",
            "Actual: 0\n",
            "Predicted: 0\n",
            "Review Text (truncated for display): angry about her and her actions because i would have otherwise enjoyed the flick what a number she was take my advise and fast forward through everything you see her do until the end also is anyone else getting sick of watching movies that are filmed so dark anymore one can hardly see what is being ...\n",
            "--------------------\n",
            "Review 5:\n",
            "Actual: 1\n",
            "Predicted: 1\n",
            "Review Text (truncated for display): worth it as soon as you start your hooked the levels are fun and exiting they will hook you <UNK> your mind turns to mush i'm not kidding this game is also orchestrated and is beautifully done br br to keep this spoiler free i have to keep my mouth shut about details but please try this game it'll b...\n",
            "--------------------\n"
          ]
        }
      ],
      "source": [
        "\n",
        "# Get predictions\n",
        "y_pred = model.predict(x_test[:10])\n",
        "y_pred = (y_pred > 0.5).astype(\"int32\")\n",
        "\n",
        "# Reverse word index to print reviews\n",
        "word_to_id = imdb.get_word_index()\n",
        "word_to_id = {k:(v+3) for k,v in word_to_id.items()}\n",
        "word_to_id[\"<PAD>\"] = 0\n",
        "word_to_id[\"<START>\"] = 1\n",
        "word_to_id[\"<UNK>\"] = 2\n",
        "word_to_id[\"<UNUSED>\"] = 3\n",
        "\n",
        "id_to_word = {value:key for key,value in word_to_id.items()}\n",
        "\n",
        "# Show samples of actual vs predicted\n",
        "for i in range(5):\n",
        "  print(f'Review {i+1}:')\n",
        "  review = ' '.join(id_to_word[id] for id in x_test[i] if id!=0 )\n",
        "  print(\"Actual:\", y_test[i])\n",
        "  print(\"Predicted:\", y_pred[i][0])\n",
        "  print(f\"Review Text (truncated for display): {review[:300]}...\") #Limit length\n",
        "  print(\"-\" * 20)"
      ]
    },
    {
      "cell_type": "code",
      "execution_count": null,
      "metadata": {
        "id": "5kbCy0BIc6mX"
      },
      "outputs": [],
      "source": [
        "\"\"\"\n",
        "If error in last block of code use this:\n",
        "\n",
        "\n",
        "y_pred = model.predict(x_test[:10])\n",
        "y_pred = (y_pred > 0.5).astype(\"int32\")\n",
        "\n",
        "# Reverse word index to print reviews\n",
        "word_to_id = imdb.get_word_index()\n",
        "word_to_id = {k:(v+3) for k,v in word_to_id.items()}\n",
        "# Correctly assign special tokens\n",
        "word_to_id[\"<PAD>\"] = 0  # Padding\n",
        "word_to_id[\"<START>\"] = 1  # Start of sequence\n",
        "word_to_id[\"<UNK>\"] = 2  # Unknown word\n",
        "\n",
        "id_to_word = {value:key for key,value in word_to_id.items()}\n",
        "\n",
        "# Show samples of actual vs predicted\n",
        "for i in range(5):\n",
        "  print(f'Review {i+1}:')\n",
        "  review = ' '.join(id_to_word[id] for id in x_test[i] if id!=0 )\n",
        "  print(\"Actual:\", y_test[i])\n",
        "  print(\"Predicted:\", y_pred[i][0])\n",
        "  print(f\"Review Text (truncated for display): {review[:300]}...\") #Limit length\n",
        "  print(\"-\" * 20)\n",
        "\n",
        "\n",
        "\"\"\""
      ]
    },
    {
      "cell_type": "code",
      "execution_count": null,
      "metadata": {},
      "outputs": [],
      "source": []
    }
  ],
  "metadata": {
    "accelerator": "GPU",
    "colab": {
      "gpuType": "T4",
      "provenance": []
    },
    "kernelspec": {
      "display_name": ".venv",
      "language": "python",
      "name": "python3"
    },
    "language_info": {
      "codemirror_mode": {
        "name": "ipython",
        "version": 3
      },
      "file_extension": ".py",
      "mimetype": "text/x-python",
      "name": "python",
      "nbconvert_exporter": "python",
      "pygments_lexer": "ipython3",
      "version": "3.11.9"
    }
  },
  "nbformat": 4,
  "nbformat_minor": 0
}
